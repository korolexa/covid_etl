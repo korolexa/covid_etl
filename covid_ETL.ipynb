{
 "cells": [
  {
   "cell_type": "markdown",
   "metadata": {},
   "source": [
    "### COVID-19 ETL task"
   ]
  },
  {
   "cell_type": "raw",
   "metadata": {},
   "source": [
    "Assumptions:\n",
    "1 Taking 1 updatable file (time_series_covid19_deaths_global.csv, not daily reports)\n",
    "2 Summing up regional data by country\n",
    "3 Ordering by date, country\n",
    "4 Do not generate indexes in sql table\n",
    "5 Replace / delete tables if any exists\n",
    "6 Daily deaths to first date (last date = 0)\n",
    "7 Using SQLite file (in the same folder), no credentials\n",
    "8 Placed requested SQL code in engine execution\n",
    "9 Making notebook, not a script, however, could be easily done.\n",
    "10 Using pandas 0.25, python 3.6, sqlite, sqlalchemy\n",
    "\n",
    "Task from 0478 599 388 Christy Klassen\n",
    "With your application, please include the following coding samples using the data from \n",
    "https://github.com/CSSEGISandData/COVID-19:\n",
    "1. Python: Download a timeseries of daily deaths per country\n",
    "2. Python: Convert the table so that each country and each day is a separate row\n",
    "3. Python: Provide code to upload the table from step 3 into an SQL table named deaths_total\n",
    "4. Python: From the data in step 2, calculate the daily change in deaths for each country\n",
    "5. Python: Provide code to upload the table from step 4 into an SQL table named deaths_change_python\n",
    "6. SQL: Provide SQL code to calculate the daily change for each country using only the data from deaths_total and save it into an SQL table named deaths_change_sql"
   ]
  },
  {
   "cell_type": "markdown",
   "metadata": {},
   "source": [
    "#### 1. Python: Download a timeseries of daily deaths per country"
   ]
  },
  {
   "cell_type": "code",
   "execution_count": 2,
   "metadata": {},
   "outputs": [],
   "source": [
    "import pandas as pd   #  python 3.6+, pd 0.25+\n",
    "from datetime import datetime, date\n",
    "from sqlalchemy import create_engine  #sqlite"
   ]
  },
  {
   "cell_type": "code",
   "execution_count": 3,
   "metadata": {},
   "outputs": [],
   "source": [
    "COVID_DATA = 'https://raw.githubusercontent.com/CSSEGISandData/COVID-19/master/' \\\n",
    "                 'csse_covid_19_data/csse_covid_19_time_series/time_series_covid19_deaths_global.csv'"
   ]
  },
  {
   "cell_type": "code",
   "execution_count": 30,
   "metadata": {},
   "outputs": [
    {
     "name": "stdout",
     "output_type": "stream",
     "text": [
      "(259, 78) n/a: 0\n"
     ]
    },
    {
     "data": {
      "text/html": [
       "<div>\n",
       "<style scoped>\n",
       "    .dataframe tbody tr th:only-of-type {\n",
       "        vertical-align: middle;\n",
       "    }\n",
       "\n",
       "    .dataframe tbody tr th {\n",
       "        vertical-align: top;\n",
       "    }\n",
       "\n",
       "    .dataframe thead th {\n",
       "        text-align: right;\n",
       "    }\n",
       "</style>\n",
       "<table border=\"1\" class=\"dataframe\">\n",
       "  <thead>\n",
       "    <tr style=\"text-align: right;\">\n",
       "      <th></th>\n",
       "      <th>Province/State</th>\n",
       "      <th>Country/Region</th>\n",
       "      <th>Lat</th>\n",
       "      <th>Long</th>\n",
       "      <th>1/22/20</th>\n",
       "      <th>1/23/20</th>\n",
       "      <th>1/24/20</th>\n",
       "      <th>1/25/20</th>\n",
       "      <th>1/26/20</th>\n",
       "      <th>1/27/20</th>\n",
       "      <th>...</th>\n",
       "      <th>3/26/20</th>\n",
       "      <th>3/27/20</th>\n",
       "      <th>3/28/20</th>\n",
       "      <th>3/29/20</th>\n",
       "      <th>3/30/20</th>\n",
       "      <th>3/31/20</th>\n",
       "      <th>4/1/20</th>\n",
       "      <th>4/2/20</th>\n",
       "      <th>4/3/20</th>\n",
       "      <th>4/4/20</th>\n",
       "    </tr>\n",
       "  </thead>\n",
       "  <tbody>\n",
       "    <tr>\n",
       "      <th>0</th>\n",
       "      <td></td>\n",
       "      <td>Afghanistan</td>\n",
       "      <td>33.0000</td>\n",
       "      <td>65.0000</td>\n",
       "      <td>0</td>\n",
       "      <td>0</td>\n",
       "      <td>0</td>\n",
       "      <td>0</td>\n",
       "      <td>0</td>\n",
       "      <td>0</td>\n",
       "      <td>...</td>\n",
       "      <td>4</td>\n",
       "      <td>4</td>\n",
       "      <td>4</td>\n",
       "      <td>4</td>\n",
       "      <td>4</td>\n",
       "      <td>4</td>\n",
       "      <td>4</td>\n",
       "      <td>6</td>\n",
       "      <td>6</td>\n",
       "      <td>7</td>\n",
       "    </tr>\n",
       "    <tr>\n",
       "      <th>1</th>\n",
       "      <td></td>\n",
       "      <td>Albania</td>\n",
       "      <td>41.1533</td>\n",
       "      <td>20.1683</td>\n",
       "      <td>0</td>\n",
       "      <td>0</td>\n",
       "      <td>0</td>\n",
       "      <td>0</td>\n",
       "      <td>0</td>\n",
       "      <td>0</td>\n",
       "      <td>...</td>\n",
       "      <td>6</td>\n",
       "      <td>8</td>\n",
       "      <td>10</td>\n",
       "      <td>10</td>\n",
       "      <td>11</td>\n",
       "      <td>15</td>\n",
       "      <td>15</td>\n",
       "      <td>16</td>\n",
       "      <td>17</td>\n",
       "      <td>20</td>\n",
       "    </tr>\n",
       "    <tr>\n",
       "      <th>2</th>\n",
       "      <td></td>\n",
       "      <td>Algeria</td>\n",
       "      <td>28.0339</td>\n",
       "      <td>1.6596</td>\n",
       "      <td>0</td>\n",
       "      <td>0</td>\n",
       "      <td>0</td>\n",
       "      <td>0</td>\n",
       "      <td>0</td>\n",
       "      <td>0</td>\n",
       "      <td>...</td>\n",
       "      <td>25</td>\n",
       "      <td>26</td>\n",
       "      <td>29</td>\n",
       "      <td>31</td>\n",
       "      <td>35</td>\n",
       "      <td>44</td>\n",
       "      <td>58</td>\n",
       "      <td>86</td>\n",
       "      <td>105</td>\n",
       "      <td>130</td>\n",
       "    </tr>\n",
       "    <tr>\n",
       "      <th>3</th>\n",
       "      <td></td>\n",
       "      <td>Andorra</td>\n",
       "      <td>42.5063</td>\n",
       "      <td>1.5218</td>\n",
       "      <td>0</td>\n",
       "      <td>0</td>\n",
       "      <td>0</td>\n",
       "      <td>0</td>\n",
       "      <td>0</td>\n",
       "      <td>0</td>\n",
       "      <td>...</td>\n",
       "      <td>3</td>\n",
       "      <td>3</td>\n",
       "      <td>3</td>\n",
       "      <td>6</td>\n",
       "      <td>8</td>\n",
       "      <td>12</td>\n",
       "      <td>14</td>\n",
       "      <td>15</td>\n",
       "      <td>16</td>\n",
       "      <td>17</td>\n",
       "    </tr>\n",
       "    <tr>\n",
       "      <th>4</th>\n",
       "      <td></td>\n",
       "      <td>Angola</td>\n",
       "      <td>-11.2027</td>\n",
       "      <td>17.8739</td>\n",
       "      <td>0</td>\n",
       "      <td>0</td>\n",
       "      <td>0</td>\n",
       "      <td>0</td>\n",
       "      <td>0</td>\n",
       "      <td>0</td>\n",
       "      <td>...</td>\n",
       "      <td>0</td>\n",
       "      <td>0</td>\n",
       "      <td>0</td>\n",
       "      <td>2</td>\n",
       "      <td>2</td>\n",
       "      <td>2</td>\n",
       "      <td>2</td>\n",
       "      <td>2</td>\n",
       "      <td>2</td>\n",
       "      <td>2</td>\n",
       "    </tr>\n",
       "  </tbody>\n",
       "</table>\n",
       "<p>5 rows × 78 columns</p>\n",
       "</div>"
      ],
      "text/plain": [
       "  Province/State Country/Region      Lat     Long  1/22/20  1/23/20  1/24/20  \\\n",
       "0                   Afghanistan  33.0000  65.0000        0        0        0   \n",
       "1                       Albania  41.1533  20.1683        0        0        0   \n",
       "2                       Algeria  28.0339   1.6596        0        0        0   \n",
       "3                       Andorra  42.5063   1.5218        0        0        0   \n",
       "4                        Angola -11.2027  17.8739        0        0        0   \n",
       "\n",
       "   1/25/20  1/26/20  1/27/20  ...  3/26/20  3/27/20  3/28/20  3/29/20  \\\n",
       "0        0        0        0  ...        4        4        4        4   \n",
       "1        0        0        0  ...        6        8       10       10   \n",
       "2        0        0        0  ...       25       26       29       31   \n",
       "3        0        0        0  ...        3        3        3        6   \n",
       "4        0        0        0  ...        0        0        0        2   \n",
       "\n",
       "   3/30/20  3/31/20  4/1/20  4/2/20  4/3/20  4/4/20  \n",
       "0        4        4       4       6       6       7  \n",
       "1       11       15      15      16      17      20  \n",
       "2       35       44      58      86     105     130  \n",
       "3        8       12      14      15      16      17  \n",
       "4        2        2       2       2       2       2  \n",
       "\n",
       "[5 rows x 78 columns]"
      ]
     },
     "execution_count": 30,
     "metadata": {},
     "output_type": "execute_result"
    }
   ],
   "source": [
    "df = pd.read_csv(COVID_DATA, skipinitialspace=True).fillna('')\n",
    "print(df.shape, 'n/a:', pd.isna(df).sum().sum())\n",
    "df.head()"
   ]
  },
  {
   "cell_type": "code",
   "execution_count": 31,
   "metadata": {},
   "outputs": [
    {
     "data": {
      "text/plain": [
       "China             33\n",
       "Canada            15\n",
       "United Kingdom    11\n",
       "France            10\n",
       "Name: Country/Region, dtype: int64"
      ]
     },
     "execution_count": 31,
     "metadata": {},
     "output_type": "execute_result"
    }
   ],
   "source": [
    "# print( df.loc[df['Country/Region']=='France', 'Province/State'] )\n",
    "df['Country/Region'].value_counts()[:4]"
   ]
  },
  {
   "cell_type": "markdown",
   "metadata": {},
   "source": [
    "Some countries have colonies/territories or shown by state/region.  \n",
    "Sum that data by country (! check your policy ~French Guiana, Taiwan)\n",
    "Dropping \"Province\" and geo data.  "
   ]
  },
  {
   "cell_type": "code",
   "execution_count": 32,
   "metadata": {},
   "outputs": [
    {
     "name": "stdout",
     "output_type": "stream",
     "text": [
      "(181, 75)\n"
     ]
    }
   ],
   "source": [
    "df = df.drop(columns=['Province/State', 'Lat', 'Long'])\n",
    "df = df.rename(columns={'Country/Region': 'country'})\n",
    "df = df.groupby('country', as_index=False).sum()\n",
    "print(df.shape)"
   ]
  },
  {
   "cell_type": "markdown",
   "metadata": {},
   "source": [
    "#### 2. Python: Convert the table so that each country and each day is a separate row"
   ]
  },
  {
   "cell_type": "code",
   "execution_count": 33,
   "metadata": {},
   "outputs": [
    {
     "data": {
      "text/html": [
       "<div>\n",
       "<style scoped>\n",
       "    .dataframe tbody tr th:only-of-type {\n",
       "        vertical-align: middle;\n",
       "    }\n",
       "\n",
       "    .dataframe tbody tr th {\n",
       "        vertical-align: top;\n",
       "    }\n",
       "\n",
       "    .dataframe thead th {\n",
       "        text-align: right;\n",
       "    }\n",
       "</style>\n",
       "<table border=\"1\" class=\"dataframe\">\n",
       "  <thead>\n",
       "    <tr style=\"text-align: right;\">\n",
       "      <th></th>\n",
       "      <th>country</th>\n",
       "      <th>date</th>\n",
       "      <th>cum_deaths</th>\n",
       "    </tr>\n",
       "  </thead>\n",
       "  <tbody>\n",
       "    <tr>\n",
       "      <th>12416</th>\n",
       "      <td>Malta</td>\n",
       "      <td>2020-03-30</td>\n",
       "      <td>0</td>\n",
       "    </tr>\n",
       "    <tr>\n",
       "      <th>9820</th>\n",
       "      <td>Denmark</td>\n",
       "      <td>2020-03-16</td>\n",
       "      <td>3</td>\n",
       "    </tr>\n",
       "    <tr>\n",
       "      <th>10061</th>\n",
       "      <td>Maldives</td>\n",
       "      <td>2020-03-17</td>\n",
       "      <td>0</td>\n",
       "    </tr>\n",
       "    <tr>\n",
       "      <th>4247</th>\n",
       "      <td>Italy</td>\n",
       "      <td>2020-02-14</td>\n",
       "      <td>0</td>\n",
       "    </tr>\n",
       "    <tr>\n",
       "      <th>1578</th>\n",
       "      <td>Papua New Guinea</td>\n",
       "      <td>2020-01-30</td>\n",
       "      <td>0</td>\n",
       "    </tr>\n",
       "  </tbody>\n",
       "</table>\n",
       "</div>"
      ],
      "text/plain": [
       "                country       date  cum_deaths\n",
       "12416             Malta 2020-03-30           0\n",
       "9820            Denmark 2020-03-16           3\n",
       "10061          Maldives 2020-03-17           0\n",
       "4247              Italy 2020-02-14           0\n",
       "1578   Papua New Guinea 2020-01-30           0"
      ]
     },
     "execution_count": 33,
     "metadata": {},
     "output_type": "execute_result"
    }
   ],
   "source": [
    "df1 = df.melt(id_vars=['country'], value_vars=df.columns[1:], var_name='date', value_name='cum_deaths')\n",
    "df1['date'] = pd.to_datetime(df1['date'])\n",
    "df1.reindex()\n",
    "df1.sample(5)"
   ]
  },
  {
   "cell_type": "markdown",
   "metadata": {},
   "source": [
    "#### 3. Python: Provide code to upload the table from step 3 into an SQL table named deaths_total"
   ]
  },
  {
   "cell_type": "code",
   "execution_count": 42,
   "metadata": {},
   "outputs": [],
   "source": [
    "# Using sqlite file in the same folder, no credentials\n",
    "engine = create_engine('sqlite:///covid_d.db')\n",
    "conn = engine.connect()"
   ]
  },
  {
   "cell_type": "code",
   "execution_count": 35,
   "metadata": {},
   "outputs": [],
   "source": [
    "# ! Attention !  Replacing existing table (not append) \n",
    "df1.to_sql('deaths_total', con=conn, index=False, if_exists='replace')\n",
    "#df1.to_sql('deaths_total', con=engine, if_exists='append')"
   ]
  },
  {
   "cell_type": "code",
   "execution_count": 36,
   "metadata": {},
   "outputs": [
    {
     "data": {
      "text/plain": [
       "[('2020-04-04 00:00:00.000000', 30),\n",
       " ('2020-04-03 00:00:00.000000', 28),\n",
       " ('2020-04-02 00:00:00.000000', 24)]"
      ]
     },
     "execution_count": 36,
     "metadata": {},
     "output_type": "execute_result"
    }
   ],
   "source": [
    "# just checking\n",
    "conn.execute(\"SELECT date, cum_deaths FROM deaths_total WHERE country='Australia' ORDER BY date DESC LIMIT 3\").fetchall()"
   ]
  },
  {
   "cell_type": "markdown",
   "metadata": {},
   "source": [
    "#### 4. Python: From the data in step 2, calculate the daily change in deaths for each country "
   ]
  },
  {
   "cell_type": "code",
   "execution_count": 37,
   "metadata": {},
   "outputs": [
    {
     "data": {
      "text/html": [
       "<div>\n",
       "<style scoped>\n",
       "    .dataframe tbody tr th:only-of-type {\n",
       "        vertical-align: middle;\n",
       "    }\n",
       "\n",
       "    .dataframe tbody tr th {\n",
       "        vertical-align: top;\n",
       "    }\n",
       "\n",
       "    .dataframe thead th {\n",
       "        text-align: right;\n",
       "    }\n",
       "</style>\n",
       "<table border=\"1\" class=\"dataframe\">\n",
       "  <thead>\n",
       "    <tr style=\"text-align: right;\">\n",
       "      <th></th>\n",
       "      <th>country</th>\n",
       "      <th>date</th>\n",
       "      <th>cum_deaths</th>\n",
       "      <th>day_deaths</th>\n",
       "    </tr>\n",
       "  </thead>\n",
       "  <tbody>\n",
       "    <tr>\n",
       "      <th>7110</th>\n",
       "      <td>Ecuador</td>\n",
       "      <td>2020-03-01</td>\n",
       "      <td>0</td>\n",
       "      <td>0</td>\n",
       "    </tr>\n",
       "    <tr>\n",
       "      <th>12610</th>\n",
       "      <td>New Zealand</td>\n",
       "      <td>2020-03-31</td>\n",
       "      <td>1</td>\n",
       "      <td>0</td>\n",
       "    </tr>\n",
       "    <tr>\n",
       "      <th>9805</th>\n",
       "      <td>Cameroon</td>\n",
       "      <td>2020-03-16</td>\n",
       "      <td>0</td>\n",
       "      <td>0</td>\n",
       "    </tr>\n",
       "    <tr>\n",
       "      <th>8830</th>\n",
       "      <td>Saint Vincent and the Grenadines</td>\n",
       "      <td>2020-03-10</td>\n",
       "      <td>0</td>\n",
       "      <td>0</td>\n",
       "    </tr>\n",
       "    <tr>\n",
       "      <th>3287</th>\n",
       "      <td>Cabo Verde</td>\n",
       "      <td>2020-02-09</td>\n",
       "      <td>0</td>\n",
       "      <td>0</td>\n",
       "    </tr>\n",
       "  </tbody>\n",
       "</table>\n",
       "</div>"
      ],
      "text/plain": [
       "                                country       date  cum_deaths  day_deaths\n",
       "7110                            Ecuador 2020-03-01           0           0\n",
       "12610                       New Zealand 2020-03-31           1           0\n",
       "9805                           Cameroon 2020-03-16           0           0\n",
       "8830   Saint Vincent and the Grenadines 2020-03-10           0           0\n",
       "3287                         Cabo Verde 2020-02-09           0           0"
      ]
     },
     "execution_count": 37,
     "metadata": {},
     "output_type": "execute_result"
    }
   ],
   "source": [
    "df2 = df1.copy()\n",
    "\n",
    "# Daily deaths go to the first day. last day N/A = 0 \n",
    "\n",
    "for c in df2.country.unique():\n",
    "    c_ind = df2.country==c\n",
    "    df2.loc[c_ind, 'day_deaths'] = ( df2.loc[c_ind, 'cum_deaths'].shift(-1) - df2.loc[c_ind, 'cum_deaths'] )\n",
    "\n",
    "df2.day_deaths = df2.day_deaths.fillna(0).astype('int') \n",
    "df2.sample(5)"
   ]
  },
  {
   "cell_type": "markdown",
   "metadata": {},
   "source": [
    "#### 5. Python: Provide code to upload the table from step 4 into an SQL table named deaths_change_python"
   ]
  },
  {
   "cell_type": "code",
   "execution_count": 38,
   "metadata": {},
   "outputs": [],
   "source": [
    "# ! Attention !  Replacing existing table (not append)\n",
    "df2.to_sql('deaths_change_python', con=conn, index=False, if_exists='replace')"
   ]
  },
  {
   "cell_type": "markdown",
   "metadata": {},
   "source": [
    "#### 6. SQL: Provide SQL code to calculate the daily change for each country using only the data from deaths_total and save it into an SQL table named deaths_change_sql"
   ]
  },
  {
   "cell_type": "code",
   "execution_count": 39,
   "metadata": {},
   "outputs": [
    {
     "data": {
      "text/plain": [
       "<sqlalchemy.engine.result.ResultProxy at 0x22f7fd75b00>"
      ]
     },
     "execution_count": 39,
     "metadata": {},
     "output_type": "execute_result"
    }
   ],
   "source": [
    "#  ! Attention !  Deleting existing table \n",
    "conn.execute('DROP TABLE IF EXISTS deaths_change_sql;')"
   ]
  },
  {
   "cell_type": "code",
   "execution_count": 40,
   "metadata": {},
   "outputs": [
    {
     "data": {
      "text/plain": [
       "<sqlalchemy.engine.result.ResultProxy at 0x22f7fd75f28>"
      ]
     },
     "execution_count": 40,
     "metadata": {},
     "output_type": "execute_result"
    }
   ],
   "source": [
    "conn.execute(''' \n",
    "    CREATE TABLE deaths_change_sql AS\n",
    "        SELECT country, date, cum_deaths,\n",
    "               COALESCE( LEAD(cum_deaths, 1) OVER(PARTITION BY country) - cum_deaths, 0) AS day_deaths \n",
    "        FROM deaths_total  \n",
    "        ORDER BY date, country;\n",
    "''')"
   ]
  },
  {
   "cell_type": "code",
   "execution_count": 44,
   "metadata": {},
   "outputs": [
    {
     "data": {
      "text/plain": [
       "['deaths_change_python',\n",
       " 'deaths_change_sql',\n",
       " 'deaths_total',\n",
       " 'sqlite_sequence']"
      ]
     },
     "execution_count": 44,
     "metadata": {},
     "output_type": "execute_result"
    }
   ],
   "source": [
    "engine.table_names()"
   ]
  },
  {
   "cell_type": "code",
   "execution_count": 45,
   "metadata": {},
   "outputs": [],
   "source": [
    "conn.close()  # conn.closed"
   ]
  },
  {
   "cell_type": "markdown",
   "metadata": {
    "heading_collapsed": true
   },
   "source": [
    "##### misc"
   ]
  },
  {
   "cell_type": "code",
   "execution_count": null,
   "metadata": {
    "hidden": true
   },
   "outputs": [],
   "source": [
    "# to create executable python code\n",
    "# jupyter nbconvert --to script covid_ETL.ipynb"
   ]
  },
  {
   "cell_type": "raw",
   "metadata": {
    "hidden": true
   },
   "source": [
    "In case the task about daily reports\n",
    "\n",
    "https://github.com/CSSEGISandData/COVID-19/tree/master/csse_covid_19_data/csse_covid_19_daily_reports\n",
    "'01-22-2020.csv'\n",
    "\n",
    "import pytz\n",
    "dfD = pd.read_csv(url, error_bad_lines=False)\n",
    "datetime.now(pytz.utc).strftime(\"%m-%d-%Y\")"
   ]
  }
 ],
 "metadata": {
  "kernelspec": {
   "display_name": "Python 3",
   "language": "python",
   "name": "python3"
  },
  "language_info": {
   "codemirror_mode": {
    "name": "ipython",
    "version": 3
   },
   "file_extension": ".py",
   "mimetype": "text/x-python",
   "name": "python",
   "nbconvert_exporter": "python",
   "pygments_lexer": "ipython3",
   "version": "3.7.3"
  }
 },
 "nbformat": 4,
 "nbformat_minor": 2
}
